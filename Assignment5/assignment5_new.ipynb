{
 "cells": [
  {
   "cell_type": "code",
   "execution_count": 1,
   "id": "53a20b75",
   "metadata": {
    "scrolled": true
   },
   "outputs": [],
   "source": [
    "# !pip install yellowbrick"
   ]
  },
  {
   "cell_type": "code",
   "execution_count": 2,
   "id": "80b85b0a",
   "metadata": {},
   "outputs": [
    {
     "ename": "ModuleNotFoundError",
     "evalue": "No module named 'plotly'",
     "output_type": "error",
     "traceback": [
      "\u001b[1;31m---------------------------------------------------------------------------\u001b[0m",
      "\u001b[1;31mModuleNotFoundError\u001b[0m                       Traceback (most recent call last)",
      "\u001b[1;32m<ipython-input-2-8db476034647>\u001b[0m in \u001b[0;36m<module>\u001b[1;34m\u001b[0m\n\u001b[0;32m      5\u001b[0m \u001b[1;32mimport\u001b[0m \u001b[0mmatplotlib\u001b[0m\u001b[1;33m.\u001b[0m\u001b[0mpyplot\u001b[0m \u001b[1;32mas\u001b[0m \u001b[0mplt\u001b[0m\u001b[1;33m\u001b[0m\u001b[1;33m\u001b[0m\u001b[0m\n\u001b[0;32m      6\u001b[0m \u001b[1;32mimport\u001b[0m \u001b[0mmatplotlib\u001b[0m\u001b[1;33m.\u001b[0m\u001b[0mcolors\u001b[0m \u001b[1;32mas\u001b[0m \u001b[0mcolors\u001b[0m\u001b[1;33m\u001b[0m\u001b[1;33m\u001b[0m\u001b[0m\n\u001b[1;32m----> 7\u001b[1;33m \u001b[1;32mimport\u001b[0m \u001b[0mplotly\u001b[0m\u001b[1;33m.\u001b[0m\u001b[0mexpress\u001b[0m \u001b[1;32mas\u001b[0m \u001b[0mpx\u001b[0m\u001b[1;33m\u001b[0m\u001b[1;33m\u001b[0m\u001b[0m\n\u001b[0m\u001b[0;32m      8\u001b[0m \u001b[1;32mimport\u001b[0m \u001b[0mseaborn\u001b[0m \u001b[1;32mas\u001b[0m \u001b[0msns\u001b[0m\u001b[1;33m\u001b[0m\u001b[1;33m\u001b[0m\u001b[0m\n\u001b[0;32m      9\u001b[0m \u001b[1;32mfrom\u001b[0m \u001b[0mscipy\u001b[0m\u001b[1;33m.\u001b[0m\u001b[0mcluster\u001b[0m\u001b[1;33m.\u001b[0m\u001b[0mhierarchy\u001b[0m \u001b[1;32mimport\u001b[0m \u001b[0mdendrogram\u001b[0m\u001b[1;33m,\u001b[0m \u001b[0mlinkage\u001b[0m\u001b[1;33m\u001b[0m\u001b[1;33m\u001b[0m\u001b[0m\n",
      "\u001b[1;31mModuleNotFoundError\u001b[0m: No module named 'plotly'"
     ]
    }
   ],
   "source": [
    "import pandas as pd\n",
    "import numpy as np\n",
    "from itertools import cycle\n",
    "\n",
    "import matplotlib.pyplot as plt\n",
    "import matplotlib.colors as colors\n",
    "import plotly.express as px\n",
    "import seaborn as sns\n",
    "from scipy.cluster.hierarchy import dendrogram, linkage\n",
    "\n",
    "from sklearn.cluster import KMeans, AffinityPropagation, AgglomerativeClustering, estimate_bandwidth, MeanShift, SpectralClustering, OPTICS, DBSCAN, BisectingKMeans, Birch\n",
    "from sklearn.mixture import GaussianMixture\n",
    "from sklearn.preprocessing import StandardScaler\n",
    "from sklearn.decomposition import PCA\n",
    "from sklearn.neighbors import NearestCentroid\n",
    "from sklearn import metrics\n",
    "\n",
    "from yellowbrick.cluster import KElbowVisualizer\n",
    "\n",
    "%matplotlib inline"
   ]
  },
  {
   "cell_type": "markdown",
   "id": "d0662c0a",
   "metadata": {},
   "source": [
    "## Importing and cleaning data"
   ]
  },
  {
   "cell_type": "code",
   "execution_count": null,
   "id": "28972ef2",
   "metadata": {},
   "outputs": [],
   "source": [
    "# Import data and clean up dataframe\n",
    "data = pd.read_csv('irisdata.txt', sep = ',', header = None)\n",
    "data.columns = ['Sepal Length', 'Sepal Width', 'Petal Length', 'Petal Width', 'Species']\n",
    "data.at[34, 'Petal Width'] = 0.2\n",
    "data.at[37, 'Sepal Width'] = 3.6\n",
    "data.at[37, 'Petal Length'] = 1.4"
   ]
  },
  {
   "cell_type": "markdown",
   "id": "843a76b0",
   "metadata": {},
   "source": [
    "## Elbow Plot"
   ]
  },
  {
   "cell_type": "code",
   "execution_count": null,
   "id": "18a6c23a",
   "metadata": {
    "pycharm": {
     "is_executing": true
    },
    "scrolled": false
   },
   "outputs": [],
   "source": [
    "# Create an elbow plot using k-means \n",
    "distortions = []\n",
    "K = range(1,10)\n",
    "for k in K:\n",
    "    kmeanModel = KMeans(n_clusters=k)\n",
    "    kmeanModel.fit(data.loc[:, data.columns != 'Species'])\n",
    "    distortions.append(kmeanModel.inertia_)\n",
    "    \n",
    "plt.figure(figsize=(16,8))\n",
    "plt.plot(K, distortions, 'bx-')\n",
    "plt.xlabel('k')\n",
    "plt.ylabel('Distortion')\n",
    "plt.title('The Elbow Method showing the optimal k')\n",
    "plt.show()"
   ]
  },
  {
   "cell_type": "code",
   "execution_count": null,
   "id": "ba63b35a",
   "metadata": {
    "pycharm": {
     "is_executing": true
    },
    "scrolled": true
   },
   "outputs": [],
   "source": [
    "# create an elbow plot using KElbowVisualizer from the yellowbrick package\n",
    "# default metric: distortion\n",
    "visualizer1 = KElbowVisualizer(KMeans(),k=(2,10),timings=False)\n",
    "\n",
    "visualizer1.fit(data.loc[:, data.columns != 'Species'])\n",
    "visualizer1.show()\n",
    "\n"
   ]
  },
  {
   "cell_type": "code",
   "execution_count": null,
   "id": "2ff34fcb",
   "metadata": {
    "pycharm": {
     "is_executing": true
    }
   },
   "outputs": [],
   "source": [
    "# metric 2: silhouette\n",
    "visualizer2 = KElbowVisualizer(KMeans(),k=(2,10),metric='silhouette',timings=False)\n",
    "\n",
    "visualizer2.fit(data.loc[:, data.columns != 'Species'])\n",
    "visualizer2.show()"
   ]
  },
  {
   "cell_type": "code",
   "execution_count": null,
   "id": "b8d997ac",
   "metadata": {
    "pycharm": {
     "is_executing": true
    },
    "scrolled": true
   },
   "outputs": [],
   "source": [
    "# metric 3: calinski_harabasz\n",
    "visualizer3 = KElbowVisualizer(KMeans(),k=(2,10),metric='calinski_harabasz',timings=False)\n",
    "\n",
    "visualizer3.fit(data.loc[:, data.columns != 'Species'])\n",
    "visualizer3.show()"
   ]
  },
  {
   "cell_type": "markdown",
   "id": "e932b92d",
   "metadata": {},
   "source": [
    "## PCA"
   ]
  },
  {
   "cell_type": "code",
   "execution_count": null,
   "id": "98255a8d",
   "metadata": {
    "pycharm": {
     "is_executing": true
    },
    "scrolled": true
   },
   "outputs": [],
   "source": [
    "#SCREE plot to determine how many components to use\n",
    "features = data[['Sepal Length', 'Sepal Width', 'Petal Length', 'Petal Width']]\n",
    "scaled_features = StandardScaler().fit_transform(features)\n",
    "scree_pca = PCA(n_components=4)\n",
    "scree_fit = scree_pca.fit(scaled_features)\n",
    "\n",
    "PC_values = np.arange(scree_pca.n_components_) + 1\n",
    "\n",
    "plt.plot(PC_values,scree_pca.explained_variance_ratio_)\n",
    "plt.title('Scree Plot')\n",
    "plt.xlabel('Principal Component')\n",
    "plt.xticks(ticks=[1,2,3,4])\n",
    "plt.ylabel('Variance Explained')\n",
    "for a,b in zip(PC_values,scree_pca.explained_variance_ratio_):\n",
    "    plt.text(a,b, str(round(b,2)))\n",
    "plt.show()"
   ]
  },
  {
   "cell_type": "markdown",
   "id": "6f1b1b5f",
   "metadata": {},
   "source": [
    "As shown with our scree plot, PC4 only explains ~1% of the variance, so we can explain 99% of our variance using only 3 features."
   ]
  },
  {
   "cell_type": "code",
   "execution_count": null,
   "id": "c0ccab4e",
   "metadata": {
    "pycharm": {
     "is_executing": true
    }
   },
   "outputs": [],
   "source": [
    "# Reduce dataframe using PCA\n",
    "pca = PCA(n_components=3)\n",
    "principalComponents = pca.fit_transform(scaled_features)\n",
    "pca_df = pd.DataFrame(principalComponents,columns=['PC1','PC2','PC3'])\n",
    "pca_df.head()"
   ]
  },
  {
   "cell_type": "code",
   "execution_count": null,
   "id": "fd5468ef",
   "metadata": {
    "pycharm": {
     "is_executing": true
    }
   },
   "outputs": [],
   "source": [
    "# 2d scatter plot of PCA\n",
    "fig = px.scatter(pca_df, x='PC1', y='PC2', color=data['Species'])\n",
    "fig.show()"
   ]
  },
  {
   "cell_type": "code",
   "execution_count": null,
   "id": "4b3be924",
   "metadata": {
    "pycharm": {
     "is_executing": true
    },
    "scrolled": true
   },
   "outputs": [],
   "source": [
    "# 3d plot of PCA\n",
    "px.scatter_3d(pca_df, x='PC1', y='PC2', z='PC3', color = data['Species'], color_discrete_sequence = px.colors.qualitative.Prism,\n",
    "             title = 'PCA 3d Plot')"
   ]
  },
  {
   "cell_type": "markdown",
   "id": "bf38b245",
   "metadata": {},
   "source": [
    "## K-Means Clustering"
   ]
  },
  {
   "cell_type": "markdown",
   "id": "ec39ad48",
   "metadata": {},
   "source": [
    "#### PCA Reduced Dataset"
   ]
  },
  {
   "cell_type": "code",
   "execution_count": null,
   "id": "39846b27",
   "metadata": {
    "pycharm": {
     "is_executing": true
    }
   },
   "outputs": [],
   "source": [
    "# x and y values using pca reduced dataset\n",
    "k_x_pca = principalComponents\n",
    "k_y_pca = data.loc[:, data.columns == 'Species'].values"
   ]
  },
  {
   "cell_type": "code",
   "execution_count": null,
   "id": "ee786336",
   "metadata": {
    "pycharm": {
     "is_executing": true
    }
   },
   "outputs": [],
   "source": [
    "# K-Means using pca reduced dataset and assocaited attributes\n",
    "kmeans_pca = KMeans(n_clusters=3, random_state=0)\n",
    "y_kmeans_pca = kmeans_pca.fit_predict(k_x_pca)\n",
    "k_centers_pca = kmeans_pca.cluster_centers_\n",
    "k_n_clusters_pca = len(k_centers_pca)\n",
    "k_labels_pca = kmeans_pca.labels_"
   ]
  },
  {
   "cell_type": "code",
   "execution_count": null,
   "id": "fcaa4f41",
   "metadata": {
    "pycharm": {
     "is_executing": true
    }
   },
   "outputs": [],
   "source": [
    "# create scatter plot of k-means clusters using pca reduced dataset\n",
    "plt.figure(1, figsize=[10,6])\n",
    "plt.scatter(k_x_pca[y_kmeans_pca == 0, 0], k_x_pca[y_kmeans_pca == 0, 1], s=50,\n",
    "           c='peachpuff', marker='D', edgecolor='black', label='Versicolor')\n",
    "plt.scatter(k_x_pca[y_kmeans_pca == 1, 0], k_x_pca[y_kmeans_pca == 1, 1], s=50,\n",
    "           c='skyblue', marker='^', edgecolor='black', label='Setosa')\n",
    "plt.scatter(k_x_pca[y_kmeans_pca == 2, 0], k_x_pca[y_kmeans_pca == 2, 1], s=50,\n",
    "           c='lemonchiffon', marker='s', edgecolor='black', label='Virginica')\n",
    "plt.scatter(k_centers_pca[:,0], k_centers_pca[:, 1], s=250,\n",
    "           marker='o', edgecolor='red', linewidth=2.2, facecolor='none', label='Centroids')\n",
    "plt.legend(scatterpoints=1)\n",
    "plt.grid()\n",
    "plt.tight_layout()\n",
    "plt.show()"
   ]
  },
  {
   "cell_type": "markdown",
   "id": "ff0ef0bf",
   "metadata": {},
   "source": [
    "The scatter plot using k-means clustering on the reduced pca dataset produces fairly good clusters for each species of Iris. "
   ]
  },
  {
   "cell_type": "code",
   "execution_count": null,
   "id": "e184357d",
   "metadata": {
    "pycharm": {
     "is_executing": true
    }
   },
   "outputs": [],
   "source": [
    "# vectorize y species values to calculate statistics\n",
    "d = {'Iris-setosa': 0, 'Iris-versicolor': 1, 'Iris-virginica': 2}\n",
    "k_y_pca = k_y_pca.flatten()\n",
    "k_y_pca = np.vectorize(d.get)(k_y_pca)"
   ]
  },
  {
   "cell_type": "code",
   "execution_count": null,
   "id": "ed2a76d8",
   "metadata": {
    "pycharm": {
     "is_executing": true
    }
   },
   "outputs": [],
   "source": [
    "# calculate statistics on k-means using pca reduced dataset\n",
    "print('Estimated number of clusters: %d' % k_n_clusters_pca)\n",
    "print(\"Homogeneity: %0.3f\" % metrics.homogeneity_score(k_y_pca, k_labels_pca))\n",
    "print(\"Completeness: %0.3f\" % metrics.completeness_score(k_y_pca, k_labels_pca))\n",
    "print(\"V-measure: %0.3f\" % metrics.v_measure_score(k_y_pca, k_labels_pca))\n",
    "print(\"Adjusted Rand Index: %0.3f\"\n",
    "      % metrics.adjusted_rand_score(k_y_pca, k_labels_pca))\n",
    "print(\"Adjusted Mutual Information: %0.3f\"\n",
    "      % metrics.adjusted_mutual_info_score(k_y_pca, k_labels_pca))\n",
    "print(\"Silhouette Coefficient: %0.3f\"\n",
    "      % metrics.silhouette_score(k_x_pca, k_labels_pca, metric='sqeuclidean'))"
   ]
  },
  {
   "cell_type": "markdown",
   "id": "6f418dc2",
   "metadata": {},
   "source": [
    "The statitics here show that using pca we have a decent clustering algorithm for the pca reduced dataset."
   ]
  },
  {
   "cell_type": "code",
   "execution_count": null,
   "id": "be226a5d",
   "metadata": {
    "pycharm": {
     "is_executing": true
    }
   },
   "outputs": [],
   "source": [
    "#### Original Dataset"
   ]
  },
  {
   "cell_type": "code",
   "execution_count": null,
   "id": "db263dd3",
   "metadata": {
    "pycharm": {
     "is_executing": true
    }
   },
   "outputs": [],
   "source": [
    "# x and y values using original dataset\n",
    "k_x = data.loc[:, data.columns != 'Species'].values\n",
    "k_y = data.loc[:, data.columns == 'Species'].values"
   ]
  },
  {
   "cell_type": "code",
   "execution_count": null,
   "id": "f769b495",
   "metadata": {
    "pycharm": {
     "is_executing": true
    }
   },
   "outputs": [],
   "source": [
    "# K-Means using original dataset values and assocaited attributes\n",
    "kmeans = KMeans(n_clusters=3, init='random', n_init=10, max_iter=300, tol=1e-04, random_state=0)\n",
    "y_kmeans = kmeans.fit_predict(k_x)\n",
    "k_centers = kmeans.cluster_centers_\n",
    "k_n_clusters = len(k_centers)\n",
    "k_labels = kmeans.predict(k_x)"
   ]
  },
  {
   "cell_type": "code",
   "execution_count": null,
   "id": "69b0d7ca",
   "metadata": {
    "pycharm": {
     "is_executing": true
    }
   },
   "outputs": [],
   "source": [
    "# 2d scatter plot of K-Means Clustering\n",
    "plt.figure(1, figsize=[10,6])\n",
    "plt.scatter(k_x[y_kmeans == 0, 1], k_x[y_kmeans == 0, 3], s=50,\n",
    "           c='peachpuff', marker='D', edgecolor='black', label='Versicolor')\n",
    "plt.scatter(k_x[y_kmeans == 1, 1], k_x[y_kmeans == 1, 3], s=50,\n",
    "           c='skyblue', marker='^', edgecolor='black', label='Setosa')\n",
    "plt.scatter(k_x[y_kmeans == 2, 1], k_x[y_kmeans == 2, 3], s=50,\n",
    "           c='lemonchiffon', marker='s', edgecolor='black', label='Virginica')\n",
    "plt.scatter(k_centers[:,1], k_centers[:, 3], s=250,\n",
    "           marker='o', edgecolor='red', linewidth=2.2, facecolor='none', label='Centroids')\n",
    "plt.legend(scatterpoints=1)\n",
    "plt.grid()\n",
    "plt.tight_layout()\n",
    "plt.show()"
   ]
  },
  {
   "cell_type": "markdown",
   "id": "3474bb0c",
   "metadata": {},
   "source": [
    "The scatter plot using k-means clustering on the original dataset produces good clusters that do not appear to be quite as good as the pca reduced dataset k-means clustering."
   ]
  },
  {
   "cell_type": "code",
   "execution_count": null,
   "id": "05842eae",
   "metadata": {
    "pycharm": {
     "is_executing": true
    }
   },
   "outputs": [],
   "source": [
    "# vectorize y species values to calculate statistics\n",
    "d = {'Iris-setosa': 0, 'Iris-versicolor': 1, 'Iris-virginica': 2}\n",
    "k_y = k_y.flatten()\n",
    "k_y = np.vectorize(d.get)(k_y)"
   ]
  },
  {
   "cell_type": "code",
   "execution_count": null,
   "id": "fe51c4f3",
   "metadata": {
    "pycharm": {
     "is_executing": true
    }
   },
   "outputs": [],
   "source": [
    "# calculate statistics on k-means using original dataset\n",
    "print('Estimated number of clusters: %d' % k_n_clusters)\n",
    "print(\"Homogeneity: %0.3f\" % metrics.homogeneity_score(k_y, k_labels))\n",
    "print(\"Completeness: %0.3f\" % metrics.completeness_score(k_y, k_labels))\n",
    "print(\"V-measure: %0.3f\" % metrics.v_measure_score(k_y, k_labels))\n",
    "print(\"Adjusted Rand Index: %0.3f\"\n",
    "      % metrics.adjusted_rand_score(k_y, k_labels))\n",
    "print(\"Adjusted Mutual Information: %0.3f\"\n",
    "      % metrics.adjusted_mutual_info_score(k_y, k_labels))\n",
    "print(\"Silhouette Coefficient: %0.3f\"\n",
    "      % metrics.silhouette_score(k_x, k_labels, metric='sqeuclidean'))"
   ]
  },
  {
   "cell_type": "markdown",
   "id": "04fcf771",
   "metadata": {},
   "source": [
    "Despite the scatter plot appearing to show a less accurate clusting on the original dataset, the statistics calculated here say otherwise. "
   ]
  },
  {
   "cell_type": "markdown",
   "id": "e512776d",
   "metadata": {},
   "source": [
    "#### K-Means Conclusions"
   ]
  },
  {
   "cell_type": "markdown",
   "id": "58d62d14",
   "metadata": {},
   "source": [
    "Using k-means clustering on both the pca reduced dataset and the original dataset produces good clustering for identifying the species of Iris. However, doing pca does not appear to be benifical in creating a superior model in this case. "
   ]
  },
  {
   "cell_type": "markdown",
   "id": "78b6421c",
   "metadata": {},
   "source": [
    "## Affinity Propogation"
   ]
  },
  {
   "cell_type": "markdown",
   "id": "814357be",
   "metadata": {},
   "source": [
    "#### PCA Reduced Dataset"
   ]
  },
  {
   "cell_type": "code",
   "execution_count": null,
   "id": "653151a6",
   "metadata": {
    "pycharm": {
     "is_executing": true
    }
   },
   "outputs": [],
   "source": [
    "# x and y values using pca reduced dataset\n",
    "affinity_x_pca = principalComponents\n",
    "affinity_y_pca = data.loc[:, data.columns == 'Species'].values"
   ]
  },
  {
   "cell_type": "code",
   "execution_count": null,
   "id": "6b64d337",
   "metadata": {
    "pycharm": {
     "is_executing": true
    }
   },
   "outputs": [],
   "source": [
    "# Affinity Propagation using pca reduced dataset and assocaited attributes\n",
    "ap_pca = AffinityPropagation(affinity='euclidean', convergence_iter=15, copy=True, damping=0.5, max_iter=200, \n",
    "                         preference=-20, verbose=False, random_state=0)\n",
    "ap_pca.fit(affinity_x_pca)\n",
    "y_affinity_pca = ap_pca.fit_predict(affinity_x_pca)\n",
    "a_centers_pca = ap_pca.cluster_centers_\n",
    "a_indices_pca = ap_pca.cluster_centers_indices_\n",
    "a_n_clusters_pca = len(a_centers_pca)\n",
    "a_labels_pca = ap_pca.predict(affinity_x_pca)"
   ]
  },
  {
   "cell_type": "code",
   "execution_count": null,
   "id": "b2d52817",
   "metadata": {
    "pycharm": {
     "is_executing": true
    }
   },
   "outputs": [],
   "source": [
    "# 2d scatter plot of Affinity Propagation Clustering\n",
    "plt.figure(1, figsize=[10,6])\n",
    "plt.scatter(affinity_x_pca[:, 0], affinity_x_pca[:, 1], c=a_labels_pca, s=50)"
   ]
  },
  {
   "cell_type": "code",
   "execution_count": null,
   "id": "755cfbbd",
   "metadata": {
    "pycharm": {
     "is_executing": true
    }
   },
   "outputs": [],
   "source": [
    "# Affinity Propagation plot\n",
    "plt.close(\"all\")\n",
    "plt.figure(1, figsize=[10,6])\n",
    "plt.clf()\n",
    "\n",
    "colors = cycle(\"bgrcmykbgrcmykbgrcmykbgrcmyk\")\n",
    "for k, col in zip(range(a_n_clusters_pca), colors):\n",
    "    class_members = a_labels_pca == k\n",
    "    cluster_center = affinity_x_pca[a_indices_pca[k]]\n",
    "    plt.plot(affinity_x_pca[class_members, 0], affinity_x_pca[class_members, 1], col + \".\")\n",
    "    plt.plot(\n",
    "        cluster_center[0],\n",
    "        cluster_center[1],\n",
    "        \"o\",\n",
    "        markerfacecolor=col,\n",
    "        markeredgecolor=\"k\",\n",
    "        markersize=14,\n",
    "    )\n",
    "    for x in affinity_x_pca[class_members]:\n",
    "        plt.plot([cluster_center[0], x[0]], [cluster_center[1], x[1]], col)\n",
    "\n",
    "plt.title(\"Estimated number of clusters: %d\" % a_n_clusters_pca)\n",
    "plt.show()"
   ]
  },
  {
   "cell_type": "markdown",
   "id": "37f8d4bd",
   "metadata": {},
   "source": [
    "Looking at the plots above it appears that affinity propagation using the pca reduced dataset results in a total of 5 estimated clusters, 2 more than we have species of Iris. "
   ]
  },
  {
   "cell_type": "code",
   "execution_count": null,
   "id": "dc5efdc5",
   "metadata": {
    "pycharm": {
     "is_executing": true
    }
   },
   "outputs": [],
   "source": [
    "# vectorize y species values to calculate statistics\n",
    "d = {'Iris-setosa': 0, 'Iris-versicolor': 1, 'Iris-virginica': 2}\n",
    "affinity_y_pca = affinity_y_pca.flatten()\n",
    "affinity_y_pca = np.vectorize(d.get)(affinity_y_pca.flatten())"
   ]
  },
  {
   "cell_type": "code",
   "execution_count": null,
   "id": "0f103f25",
   "metadata": {
    "pycharm": {
     "is_executing": true
    }
   },
   "outputs": [],
   "source": [
    "# calculate statistics on affinity propagation using pca reduced dataset\n",
    "print('Estimated number of clusters: %d' % a_n_clusters_pca)\n",
    "print(\"Homogeneity: %0.3f\" % metrics.homogeneity_score(affinity_y_pca, a_labels_pca))\n",
    "print(\"Completeness: %0.3f\" % metrics.completeness_score(affinity_y_pca, a_labels_pca))\n",
    "print(\"V-measure: %0.3f\" % metrics.v_measure_score(affinity_y_pca, a_labels_pca))\n",
    "print(\"Adjusted Rand Index: %0.3f\"\n",
    "      % metrics.adjusted_rand_score(affinity_y_pca, a_labels_pca))\n",
    "print(\"Adjusted Mutual Information: %0.3f\"\n",
    "      % metrics.adjusted_mutual_info_score(affinity_y_pca, a_labels_pca))\n",
    "print(\"Silhouette Coefficient: %0.3f\"\n",
    "      % metrics.silhouette_score(affinity_x_pca, a_labels_pca, metric='sqeuclidean'))"
   ]
  },
  {
   "cell_type": "markdown",
   "id": "3833d96c",
   "metadata": {},
   "source": [
    "As suspected based on the visualizations of the affinity propagation on the pca reduced dataset, the statitics confirm that this has not resulted in incredibly strong clustering with relatively low scores in all statistics besides homogeneity."
   ]
  },
  {
   "cell_type": "markdown",
   "id": "6a2cf398",
   "metadata": {},
   "source": [
    "#### Original Dataset"
   ]
  },
  {
   "cell_type": "code",
   "execution_count": null,
   "id": "3cb1dc1e",
   "metadata": {
    "pycharm": {
     "is_executing": true
    }
   },
   "outputs": [],
   "source": [
    "# x and y values using original dataset\n",
    "affinity_x = data.loc[:, data.columns != 'Species'].values\n",
    "affinity_y = data.loc[:, data.columns == 'Species'].values"
   ]
  },
  {
   "cell_type": "code",
   "execution_count": null,
   "id": "dcddb803",
   "metadata": {
    "pycharm": {
     "is_executing": true
    }
   },
   "outputs": [],
   "source": [
    "# Affinity Propagation using original dataset and assocaited attributes\n",
    "ap = AffinityPropagation(affinity='euclidean', convergence_iter=15, copy=True, damping=0.5, max_iter=200, \n",
    "                         preference=-20, verbose=False, random_state=0)\n",
    "ap.fit(affinity_x)\n",
    "y_affinity = ap.fit_predict(affinity_x)\n",
    "a_centers = ap.cluster_centers_\n",
    "a_indices = ap.cluster_centers_indices_\n",
    "a_n_clusters = len(a_centers)\n",
    "a_labels = ap.predict(affinity_x)"
   ]
  },
  {
   "cell_type": "code",
   "execution_count": null,
   "id": "b5036712",
   "metadata": {
    "pycharm": {
     "is_executing": true
    }
   },
   "outputs": [],
   "source": [
    "# 2d scatter plot of Affinity Propagation Clustering\n",
    "plt.figure(1, figsize=[10,6])\n",
    "plt.scatter(affinity_x[:, 0], affinity_x[:, 1], c=a_labels, s=50)"
   ]
  },
  {
   "cell_type": "code",
   "execution_count": null,
   "id": "de9f577d",
   "metadata": {
    "pycharm": {
     "is_executing": true
    }
   },
   "outputs": [],
   "source": [
    "# Affinity Propagation plot \n",
    "plt.close(\"all\")\n",
    "plt.figure(1, figsize=[10,6])\n",
    "plt.clf()\n",
    "\n",
    "colors = cycle(\"bgrcmykbgrcmykbgrcmykbgrcmyk\")\n",
    "for k, col in zip(range(a_n_clusters), colors):\n",
    "    class_members = a_labels == k\n",
    "    cluster_center = affinity_x[a_indices[k]]\n",
    "    plt.plot(affinity_x[class_members, 0], affinity_x[class_members, 1], col + \".\")\n",
    "    plt.plot(\n",
    "        cluster_center[0],\n",
    "        cluster_center[1],\n",
    "        \"o\",\n",
    "        markerfacecolor=col,\n",
    "        markeredgecolor=\"k\",\n",
    "        markersize=14,\n",
    "    )\n",
    "    for x in affinity_x[class_members]:\n",
    "        plt.plot([cluster_center[0], x[0]], [cluster_center[1], x[1]], col)\n",
    "\n",
    "plt.title(\"Estimated number of clusters: %d\" % a_n_clusters)\n",
    "plt.show()"
   ]
  },
  {
   "cell_type": "markdown",
   "id": "dea9a4b0",
   "metadata": {},
   "source": [
    "The plots above for affinity propagation on the original dataset show much better clustering that we achieved using the pca reduced dataset. "
   ]
  },
  {
   "cell_type": "code",
   "execution_count": null,
   "id": "a31ce147",
   "metadata": {
    "pycharm": {
     "is_executing": true
    }
   },
   "outputs": [],
   "source": [
    "# vectorize y species values to calculate statistics\n",
    "d = {'Iris-setosa': 0, 'Iris-versicolor': 1, 'Iris-virginica': 2}\n",
    "affinity_y = affinity_y.flatten()\n",
    "affinity_y = np.vectorize(d.get)(affinity_y.flatten())"
   ]
  },
  {
   "cell_type": "code",
   "execution_count": null,
   "id": "5f9d6ee5",
   "metadata": {
    "pycharm": {
     "is_executing": true
    }
   },
   "outputs": [],
   "source": [
    "# calculate statistics on affinity propagation using original dataset\n",
    "print('Estimated number of clusters: %d' % a_n_clusters)\n",
    "print(\"Homogeneity: %0.3f\" % metrics.homogeneity_score(affinity_y, a_labels))\n",
    "print(\"Completeness: %0.3f\" % metrics.completeness_score(affinity_y, a_labels))\n",
    "print(\"V-measure: %0.3f\" % metrics.v_measure_score(affinity_y, a_labels))\n",
    "print(\"Adjusted Rand Index: %0.3f\"\n",
    "      % metrics.adjusted_rand_score(affinity_y, a_labels))\n",
    "print(\"Adjusted Mutual Information: %0.3f\"\n",
    "      % metrics.adjusted_mutual_info_score(affinity_y, a_labels))\n",
    "print(\"Silhouette Coefficient: %0.3f\"\n",
    "      % metrics.silhouette_score(affinity_x, a_labels, metric='sqeuclidean'))"
   ]
  },
  {
   "cell_type": "markdown",
   "id": "2ca2dc2e",
   "metadata": {},
   "source": [
    "Unlike the statistics we calulated using the pca reduced dataset, here we have very strong indications, on all calculated statistics, that affinity propagation did very good at clustering the species of Iris together."
   ]
  },
  {
   "cell_type": "markdown",
   "id": "2508d2be",
   "metadata": {},
   "source": [
    "#### Affinity Propagation Conclusions"
   ]
  },
  {
   "cell_type": "markdown",
   "id": "d66789c8",
   "metadata": {},
   "source": [
    "Using affinity propagation clustering on the original dataset produced a good result for correctly identifying the species of Iris. However, when affinity propagation was used against the pca reduced dataset it did not perform nearly as well, resulting in 2 excess clusters."
   ]
  },
  {
   "cell_type": "markdown",
   "id": "f2462547",
   "metadata": {},
   "source": [
    "## Gaussian Mixtures"
   ]
  },
  {
   "cell_type": "code",
   "execution_count": null,
   "id": "4b19f7b6",
   "metadata": {
    "pycharm": {
     "is_executing": true
    }
   },
   "outputs": [],
   "source": [
    "# Copying the data\n",
    "gmm_iris_df = scaled_features.copy() # Original Data\n",
    "gmm_iris_df = pd.DataFrame(gmm_iris_df, columns=['Sepal Length', 'Sepal Width', 'Petal Length', 'Petal Width'])\n",
    "gmm_pca_df = pca_df.copy() # PCA Data\n",
    "\n",
    "# Performing Gaussian Mixtures on the Original Data\n",
    "gmm = GaussianMixture(n_components=3)\n",
    "gmm.fit(gmm_iris_df)\n",
    "labels = gmm.predict(gmm_iris_df)\n",
    "gmm_iris_df['labels'] = labels\n",
    "gmm_iris_df['Species'] = data['Species']\n",
    "\n",
    "# Performing Gaussian Mixtures on the PCA Data\n",
    "gmm = GaussianMixture(n_components=3)\n",
    "gmm.fit(pca_df)\n",
    "labels = gmm.predict(pca_df)\n",
    "gmm_pca_df['labels'] = labels\n",
    "gmm_pca_df['Species'] = data['Species']"
   ]
  },
  {
   "cell_type": "markdown",
   "id": "a94e10fd",
   "metadata": {},
   "source": [
    "Plotting the PCA Data"
   ]
  },
  {
   "cell_type": "code",
   "execution_count": null,
   "id": "77956b6d",
   "metadata": {
    "pycharm": {
     "is_executing": true
    }
   },
   "outputs": [],
   "source": [
    "# Creating a 3D Plot\n",
    "fig = px.scatter_3d(gmm_pca_df, x='PC1', y='PC2', z='PC3', color='labels', symbol='Species', opacity=0.7)\n",
    "fig.update_layout(coloraxis_colorbar=dict(yanchor=\"top\", y=1, x=0, ticks=\"outside\"))\n",
    "fig.show()"
   ]
  },
  {
   "cell_type": "code",
   "execution_count": null,
   "id": "042ee496",
   "metadata": {
    "pycharm": {
     "is_executing": true
    }
   },
   "outputs": [],
   "source": [
    "# Creating a 2D Plot\n",
    "sns.scatterplot(x='PC1', y='PC2', hue='labels', style='Species', data=gmm_pca_df)\n",
    "plt.show()"
   ]
  },
  {
   "cell_type": "markdown",
   "id": "4988a88c",
   "metadata": {},
   "source": [
    "We see that Iris-Setosa has its own cluster on the side and Iris-Versicolor and Iris-Virginica's clusters very slightly intersect."
   ]
  },
  {
   "cell_type": "markdown",
   "id": "ee8e9d6e",
   "metadata": {},
   "source": [
    "Plotting the Original Data"
   ]
  },
  {
   "cell_type": "code",
   "execution_count": null,
   "id": "01207b26",
   "metadata": {
    "pycharm": {
     "is_executing": true
    }
   },
   "outputs": [],
   "source": [
    "# Creating a 3D plot\n",
    "fig = px.scatter_3d(gmm_iris_df, x='Sepal Length', y='Sepal Width', z='Petal Length', color='labels', symbol='Species', opacity=0.7)\n",
    "fig.update_layout(coloraxis_colorbar=dict(yanchor=\"top\", y=1, x=0, ticks=\"outside\"))\n",
    "fig.show()"
   ]
  },
  {
   "cell_type": "code",
   "execution_count": null,
   "id": "7150168b",
   "metadata": {
    "pycharm": {
     "is_executing": true
    }
   },
   "outputs": [],
   "source": [
    "# Creating a 2D plot\n",
    "sns.scatterplot(x='Sepal Length', y='Sepal Width', hue='labels', style='Species', data=gmm_iris_df)\n",
    "plt.show()"
   ]
  },
  {
   "cell_type": "markdown",
   "id": "5585223f",
   "metadata": {},
   "source": [
    "Iris-Setosa still has its own cluster but Iris-Versicolor and Iris-Virginica's clusters are much more muddy"
   ]
  },
  {
   "cell_type": "markdown",
   "id": "6ef45ffa",
   "metadata": {},
   "source": [
    "### Conclusions: Gaussian Mixtures\n",
    "\n",
    "Compared to the model on the original data, the gaussian mixtures model almost cleanly divides Iris-Versicolor and Iris-Virginica into their own clusters. There is some error and a small overlap."
   ]
  },
  {
   "cell_type": "markdown",
   "id": "2ae5f8b5",
   "metadata": {},
   "source": [
    "## Ward Agglomerative Clustering (Hierachical)"
   ]
  },
  {
   "cell_type": "code",
   "execution_count": null,
   "id": "cc3dd7f4",
   "metadata": {
    "pycharm": {
     "is_executing": true
    }
   },
   "outputs": [],
   "source": [
    "ward = AgglomerativeClustering(\n",
    "    n_clusters=3,\n",
    "    affinity='euclidean',\n",
    "    linkage='ward')\n",
    "\n",
    "ward_predict = ward.fit_predict(features)\n",
    "ward_labels = ward.labels_\n",
    "ward_clusters = ward.n_clusters_\n",
    "\n",
    "ward_clf = NearestCentroid()\n",
    "ward_clf.fit(features,ward_predict)\n",
    "ward_centroids = pd.DataFrame(ward_clf.centroids_,columns=['Sepal Length','Sepal Width','Petal Length','Petal Width'])"
   ]
  },
  {
   "cell_type": "code",
   "execution_count": null,
   "id": "39562476",
   "metadata": {
    "pycharm": {
     "is_executing": true
    },
    "scrolled": true
   },
   "outputs": [],
   "source": [
    "# scatter plot\n",
    "ward_df = data.copy()\n",
    "ward_df['Cluster'] = ward_predict\n",
    "ward_df['Cluster'] = ward_df['Cluster'].astype('category')\n",
    "fig = px.scatter(\n",
    "    ward_df,\n",
    "    x='Petal Length',\n",
    "    y='Petal Width',\n",
    "    color='Cluster',\n",
    "    color_discrete_sequence=px.colors.qualitative.Antique,\n",
    "    symbol= 'Species'\n",
    ")\n",
    "fig.add_trace(px.scatter(ward_centroids,x='Petal Length',y='Petal Width',text=ward_centroids.index).data[0])\n",
    "fig.show()"
   ]
  },
  {
   "cell_type": "markdown",
   "id": "e71369e6",
   "metadata": {},
   "source": [
    "Based on the scatter plot (and the corresponding legend), we can see 1 cluster encompassed a single species (setosa). The other 2 clusters were some mix of versicolor and virginica."
   ]
  },
  {
   "cell_type": "code",
   "execution_count": null,
   "id": "4847e8b6",
   "metadata": {},
   "outputs": [],
   "source": [
    "# function to map cluster to a the closest species\n",
    "def species_map(predict,sp0, sp1, sp2):\n",
    "    new_labels=[]\n",
    "    for i in predict:\n",
    "        if i == 0:\n",
    "            new_labels.append(sp0)\n",
    "        elif i == 1:\n",
    "            new_labels.append(sp1)\n",
    "        else: \n",
    "            new_labels.append(sp2)\n",
    "    return np.array(new_labels)\n"
   ]
  },
  {
   "cell_type": "code",
   "execution_count": null,
   "id": "82f89098",
   "metadata": {
    "pycharm": {
     "is_executing": true
    },
    "scrolled": true
   },
   "outputs": [],
   "source": [
    "# confusion matrix\n",
    "new_labels = species_map(ward_predict, 'Iris-versicolor','Iris-setosa','Iris-virginica')\n",
    "metrics.ConfusionMatrixDisplay.from_predictions(data['Species'],new_labels)\n",
    "plt.grid(visible=None)\n",
    "plt.title('0:Versicolor,1:Setosa,2:Virginica')\n",
    "plt.show()"
   ]
  },
  {
   "cell_type": "markdown",
   "id": "e1c15928",
   "metadata": {},
   "source": [
    "This confusion matrix confirms that all setosa flowers were clustered together, and there weren't any other species of flower mixed into that cluster. However, about 15 virginica flowers were clustered with 49 of the 50 versicolor flowers, and the remaining versicolor flower was clustered with the remaining 35 virginica flowers."
   ]
  },
  {
   "cell_type": "code",
   "execution_count": null,
   "id": "bc2363ee",
   "metadata": {
    "pycharm": {
     "is_executing": true
    },
    "scrolled": true
   },
   "outputs": [],
   "source": [
    "# Statistics\n",
    "\n",
    "print('Estimated number of clusters: %d' % ward_clusters)\n",
    "print(\"Homogeneity: %0.3f\" % metrics.homogeneity_score(data[\"Species\"],ward_labels))\n",
    "print(\"Completeness: %0.3f\" % metrics.completeness_score(data[\"Species\"],ward_labels))\n",
    "print(\"V-measure: %0.3f\" % metrics.v_measure_score(data[\"Species\"],ward_labels))\n",
    "print(\"Adjusted Rand Index: %0.3f\"\n",
    "      % metrics.adjusted_rand_score(data[\"Species\"],ward_labels))\n",
    "print(\"Adjusted Mutual Information: %0.3f\"\n",
    "      % metrics.adjusted_mutual_info_score(data[\"Species\"],ward_labels))\n",
    "print(\"Silhouette Coefficient: %0.3f\"\n",
    "      % metrics.silhouette_score(features, ward_labels, metric='sqeuclidean'))"
   ]
  },
  {
   "cell_type": "markdown",
   "id": "5e74d49b",
   "metadata": {},
   "source": [
    "### Ward Hierarchical Clustering for PCA dataframe"
   ]
  },
  {
   "cell_type": "code",
   "execution_count": null,
   "id": "6e5a0bce",
   "metadata": {
    "pycharm": {
     "is_executing": true
    }
   },
   "outputs": [],
   "source": [
    "ward_p = AgglomerativeClustering(\n",
    "    n_clusters=3,\n",
    "    affinity='euclidean',\n",
    "    linkage='ward')\n",
    "\n",
    "ward_predict_pca = ward_p.fit_predict(pca_df)\n",
    "ward_labels_pca = ward_p.labels_\n",
    "ward_clusters_pca = ward_p.n_clusters_\n",
    "\n",
    "ward_clf_pca = NearestCentroid()\n",
    "ward_clf_pca.fit(pca_df,ward_predict_pca)\n",
    "ward_centroids_pca = pd.DataFrame(ward_clf_pca.centroids_,columns=['PC1','PC2','PC3'])"
   ]
  },
  {
   "cell_type": "code",
   "execution_count": null,
   "id": "2c919659",
   "metadata": {
    "pycharm": {
     "is_executing": true
    },
    "scrolled": true
   },
   "outputs": [],
   "source": [
    "# scatter plot (displaying all 3 principal components)\n",
    "ward_pca = pca_df.copy()\n",
    "ward_pca['Species'] = data['Species']\n",
    "ward_pca['Cluster'] = ward_labels_pca\n",
    "ward_pca['Cluster'] = ward_pca['Cluster'].astype('category')\n",
    "\n",
    "fig = px.scatter_3d(\n",
    "    ward_pca,\n",
    "    x='PC1',\n",
    "    y='PC2',\n",
    "    z='PC3',\n",
    "    color='Cluster',\n",
    "    color_discrete_sequence=px.colors.qualitative.Antique,\n",
    "    symbol= 'Species'\n",
    ")\n",
    "fig.add_trace(px.scatter_3d(ward_centroids_pca,x='PC1',y='PC2',z='PC3',text=ward_centroids_pca.index).data[0])\n",
    "fig.update_traces(marker_size=5)\n",
    "fig.show()"
   ]
  },
  {
   "cell_type": "markdown",
   "id": "ba652378",
   "metadata": {},
   "source": [
    "By briefly observing this scatter plot, we can see that there was one cluster that included at least 1 of each species, but the other 2 clusters included only 1 species."
   ]
  },
  {
   "cell_type": "code",
   "execution_count": null,
   "id": "1850ad69",
   "metadata": {
    "pycharm": {
     "is_executing": true
    },
    "scrolled": true
   },
   "outputs": [],
   "source": [
    "# confusion matrix\n",
    "new_labels = species_map(ward_predict_pca, 'Iris-versicolor','Iris-setosa','Iris-virginica')\n",
    "metrics.ConfusionMatrixDisplay.from_predictions(data['Species'],new_labels)\n",
    "plt.grid(visible=None)\n",
    "plt.title('0:Versicolor,1:Setosa,2:Virginica')\n",
    "plt.show()"
   ]
  },
  {
   "cell_type": "markdown",
   "id": "b43c3368",
   "metadata": {},
   "source": [
    "This time around all versicolor flowers were included in the same cluster, but that cluster also included a setosa flower and 23 virginica flowers. The 2nd cluster included all the remaining setosa flowers, with no other flowers from another iris species. And the 3rd cluster had the last 27 flowers, all virginica."
   ]
  },
  {
   "cell_type": "code",
   "execution_count": null,
   "id": "9eee9c32",
   "metadata": {
    "pycharm": {
     "is_executing": true
    }
   },
   "outputs": [],
   "source": [
    "print('Estimated number of clusters: %d' % ward_clusters_pca)\n",
    "print(\"Homogeneity: %0.3f\" % metrics.homogeneity_score(data[\"Species\"],ward_labels_pca))\n",
    "print(\"Completeness: %0.3f\" % metrics.completeness_score(data[\"Species\"],ward_labels_pca))\n",
    "print(\"V-measure: %0.3f\" % metrics.v_measure_score(data[\"Species\"], ward_labels_pca))\n",
    "print(\"Adjusted Rand Index: %0.3f\"\n",
    "      % metrics.adjusted_rand_score(data[\"Species\"],ward_labels_pca))\n",
    "print(\"Adjusted Mutual Information: %0.3f\"\n",
    "      % metrics.adjusted_mutual_info_score(data[\"Species\"],ward_labels_pca))\n",
    "print(\"Silhouette Coefficient: %0.3f\"\n",
    "      % metrics.silhouette_score(pca_df, ward_labels, metric='sqeuclidean'))"
   ]
  },
  {
   "cell_type": "markdown",
   "id": "8ecb3a4e",
   "metadata": {},
   "source": [
    "### Ward Hierarchical Clustering Conclusions:\n",
    "\n",
    "Hierarchical clustering does a pretty good job of clustering setosa irises together, but has a little bit of a harder time separating out virginica and versicolor. It does a good job capturing all (or a large majority) of the versicolor irises in one cluster, but there are 15-23 virginica flowers included in that cluster as well, but all remaining virginica, and the few versicolor flowers are in the last cluster. Notably, clustering the original features does perform better (when comparing to the Species listed for the original dataset) than the PCA components."
   ]
  },
  {
   "cell_type": "markdown",
   "id": "e695eeb9",
   "metadata": {},
   "source": [
    "### Mean Shift"
   ]
  },
  {
   "cell_type": "code",
   "execution_count": null,
   "id": "127e61ea",
   "metadata": {
    "pycharm": {
     "is_executing": true
    }
   },
   "outputs": [],
   "source": [
    "# Apply Mean Shift to original dataframe\n",
    "bandwidth = estimate_bandwidth(scaled_features, quantile = 0.2, n_samples = len(scaled_features))\n",
    "mean_shift = MeanShift(bandwidth = bandwidth, bin_seeding = True)\n",
    "mean_shift.fit(scaled_features)\n",
    "ms_data_labels = mean_shift.labels_\n",
    "ms_data_cluster_centers = mean_shift.cluster_centers_\n",
    "\n",
    "unique_ms_data_labels = np.unique(ms_data_labels)\n",
    "num_ms_data_clusters_ = len(unique_ms_data_labels)\n",
    "print(\"Number of clusters : %d\" % num_ms_data_clusters_)\n",
    "print(ms_data_cluster_centers)"
   ]
  },
  {
   "cell_type": "markdown",
   "id": "e1f98b4f",
   "metadata": {},
   "source": [
    "Applying Mean Shift to the original dataframe results in the identification of 3 clusters and produces the coordinates for each cluster."
   ]
  },
  {
   "cell_type": "code",
   "execution_count": null,
   "id": "fac84c2b",
   "metadata": {
    "pycharm": {
     "is_executing": true
    }
   },
   "outputs": [],
   "source": [
    "# Create plot of clusters derived from original data\n",
    "plt.scatter(scaled_features[:,0], scaled_features[:,1], c = ms_data_labels, cmap = 'rainbow', edgecolors = 'b')\n",
    "plt.scatter(ms_data_cluster_centers[:,0], ms_data_cluster_centers[:,1],\n",
    "     color = 'k', s = 20, linewidths = 5)\n",
    "plt.show()"
   ]
  },
  {
   "cell_type": "markdown",
   "id": "1d5669bd",
   "metadata": {},
   "source": [
    "The scatter plot depicts the relationship between the original data points and the clusters identified by the Mean Shift."
   ]
  },
  {
   "cell_type": "code",
   "execution_count": null,
   "id": "7e6c39a8",
   "metadata": {
    "pycharm": {
     "is_executing": true
    }
   },
   "outputs": [],
   "source": [
    "# Apply Mean Shift to PCA dataframe\n",
    "bandwidth = estimate_bandwidth(scaled_features, quantile = 0.2, n_samples = len(pca_df))\n",
    "mean_shift = MeanShift(bandwidth = bandwidth, bin_seeding = True)\n",
    "mean_shift.fit(pca_df)\n",
    "ms_pcs_labels = mean_shift.labels_\n",
    "ms_pcs_cluster_centers = mean_shift.cluster_centers_\n",
    "\n",
    "unique_ms_pcs_labels = np.unique(ms_pcs_labels)\n",
    "num_ms_pcs_clusters_ = len(unique_ms_pcs_labels)\n",
    "print(\"Number of clusters : %d\" % num_ms_pcs_clusters_)\n",
    "print(ms_pcs_cluster_centers)"
   ]
  },
  {
   "cell_type": "markdown",
   "id": "386108b8",
   "metadata": {},
   "source": [
    "Applying Mean Shift to the PCA dataframe results in the identification of 4 clusters and produces the coordinates for each cluster."
   ]
  },
  {
   "cell_type": "code",
   "execution_count": null,
   "id": "c88c339b",
   "metadata": {
    "pycharm": {
     "is_executing": true
    }
   },
   "outputs": [],
   "source": [
    "# Create plot of clusters derived from principal components\n",
    "plt.scatter(pca_df['PC1'], pca_df['PC2'], c = ms_pcs_labels, cmap = 'rainbow', edgecolors = 'b')\n",
    "plt.scatter(ms_pcs_cluster_centers[:,0], ms_pcs_cluster_centers[:,1],\n",
    "     color = 'k', s = 20, linewidths = 5)\n",
    "plt.show()"
   ]
  },
  {
   "cell_type": "markdown",
   "id": "3e68849e",
   "metadata": {},
   "source": [
    "The scatter plot depicts the relationship between the principal components and the clusters identified by the Mean Shift."
   ]
  },
  {
   "cell_type": "markdown",
   "id": "10b3f871",
   "metadata": {},
   "source": [
    "### Conclusions: Mean shift\n",
    "\n",
    "The application of Mean Shift to the principal components appears to provide better results than seen with the application of the technique to the original dataset, as the distribution of the data points has a much narrower spreads. That is, the clusters become more apparent when derived from the principal components."
   ]
  },
  {
   "cell_type": "markdown",
   "id": "a028945f",
   "metadata": {},
   "source": [
    "### Spectral Clustering"
   ]
  },
  {
   "cell_type": "code",
   "execution_count": null,
   "id": "53920ac5",
   "metadata": {
    "pycharm": {
     "is_executing": true
    }
   },
   "outputs": [],
   "source": [
    "# Apply Spectral Clustering to original dataframe\n",
    "spec_clust = SpectralClustering(n_clusters = 3)\n",
    "spec_clust.fit(scaled_features)\n",
    "sc_data_labels = spec_clust.labels_\n",
    "unique_sc_data_labels = np.unique(sc_data_labels)\n",
    "num_sc_data_clusters_ = len(unique_sc_data_labels)"
   ]
  },
  {
   "cell_type": "code",
   "execution_count": null,
   "id": "3edabedc",
   "metadata": {
    "pycharm": {
     "is_executing": true
    }
   },
   "outputs": [],
   "source": [
    "# Create Spectral Clustering plot\n",
    "plt.scatter(scaled_features[:,0], scaled_features[:,1], c = sc_data_labels, cmap = 'rainbow', edgecolors = 'b')\n",
    "plt.show()"
   ]
  },
  {
   "cell_type": "code",
   "execution_count": null,
   "id": "1f7b2a6b",
   "metadata": {
    "pycharm": {
     "is_executing": true
    }
   },
   "outputs": [],
   "source": [
    "# Apply Spectral Clustering to PCA dataframe\n",
    "spec_clust = SpectralClustering(n_clusters = 3)\n",
    "spec_clust.fit(pca_df)\n",
    "sc_pcs_labels = spec_clust.labels_\n",
    "unique_sc_pcs_labels = np.unique(sc_pcs_labels)\n",
    "num_sc_pcs_clusters_ = len(unique_sc_pcs_labels)"
   ]
  },
  {
   "cell_type": "code",
   "execution_count": null,
   "id": "2fc2a4bc",
   "metadata": {
    "pycharm": {
     "is_executing": true
    }
   },
   "outputs": [],
   "source": [
    "# Create Spectral Clustering plot\n",
    "plt.scatter(pca_df['PC1'], pca_df['PC2'], c = sc_pcs_labels, cmap = 'rainbow', edgecolors = 'b')\n",
    "plt.show()"
   ]
  },
  {
   "cell_type": "markdown",
   "id": "1b3deb2a",
   "metadata": {},
   "source": [
    "### Conclusions: Spectral Clustering\n",
    "Similarly, utilizing the principal components in the application of Spectral Clustering proves to generate improved results when compared to the results associated with the original dataset. The clusters are more well-defined due to the more compact distribution of data."
   ]
  },
  {
   "cell_type": "markdown",
   "id": "d9a62de1",
   "metadata": {},
   "source": [
    "## DBSCAN Clustering"
   ]
  },
  {
   "cell_type": "code",
   "execution_count": null,
   "id": "cd486b26",
   "metadata": {
    "pycharm": {
     "is_executing": true
    }
   },
   "outputs": [],
   "source": [
    "# Copying the original and PCA Data\n",
    "dbscan_iris_df = scaled_features.copy()\n",
    "dbscan_iris_df = pd.DataFrame(dbscan_iris_df, columns=['Sepal Length', 'Sepal Width', 'Petal Length', 'Petal Width'])\n",
    "dbscan_pca_df = pca_df.copy()\n",
    "\n",
    "# Performing Dbscan on the Original Data\n",
    "dbscan = DBSCAN()\n",
    "dbscan.fit(dbscan_iris_df)\n",
    "labels = dbscan.labels_\n",
    "dbscan_iris_df['labels'] = labels\n",
    "dbscan_iris_df['Species'] = data['Species']\n",
    "\n",
    "# Performing Dbscan on the PCA Data\n",
    "dbscan = DBSCAN()\n",
    "dbscan.fit(dbscan_pca_df)\n",
    "labels = dbscan.labels_\n",
    "dbscan_pca_df['labels'] = labels\n",
    "dbscan_pca_df['Species'] = data['Species']"
   ]
  },
  {
   "cell_type": "markdown",
   "id": "25ca98b7",
   "metadata": {},
   "source": [
    "Plotting the PCA Data"
   ]
  },
  {
   "cell_type": "code",
   "execution_count": null,
   "id": "13301af9",
   "metadata": {
    "pycharm": {
     "is_executing": true
    }
   },
   "outputs": [],
   "source": [
    "# Creating a 3D Plot\n",
    "fig = px.scatter_3d(dbscan_pca_df, x='PC1', y='PC2', z='PC3', color='labels', symbol='Species', opacity=0.7)\n",
    "fig.update_layout(coloraxis_colorbar=dict(yanchor=\"top\", y=1, x=0, ticks=\"outside\"))\n",
    "fig.show()"
   ]
  },
  {
   "cell_type": "code",
   "execution_count": null,
   "id": "74662a77",
   "metadata": {
    "pycharm": {
     "is_executing": true
    }
   },
   "outputs": [],
   "source": [
    "# Creating a 2D Plot\n",
    "sns.scatterplot(x='PC1', y='PC2', hue='labels', style='Species', data=dbscan_pca_df)\n",
    "plt.show()"
   ]
  },
  {
   "cell_type": "markdown",
   "id": "6f519933",
   "metadata": {},
   "source": [
    "DBSCAN creates 3 clusters, 1 of most of Iris-Setosa, another of most of Iris-Versicolor and Iris-Virginica, and the third seems to be the outliers."
   ]
  },
  {
   "cell_type": "markdown",
   "id": "57ca4b51",
   "metadata": {},
   "source": [
    "Plotting the Original Data"
   ]
  },
  {
   "cell_type": "code",
   "execution_count": null,
   "id": "81fba659",
   "metadata": {
    "pycharm": {
     "is_executing": true
    }
   },
   "outputs": [],
   "source": [
    "# Creating a 3D Plot\n",
    "fig = px.scatter_3d(dbscan_iris_df, x='Sepal Length', y='Sepal Width', z='Petal Length', color='labels', symbol='Species', opacity=0.7)\n",
    "fig.update_layout(coloraxis_colorbar=dict(yanchor=\"top\", y=1, x=0, ticks=\"outside\"))\n",
    "fig.show()"
   ]
  },
  {
   "cell_type": "code",
   "execution_count": null,
   "id": "b4f59871",
   "metadata": {
    "pycharm": {
     "is_executing": true
    }
   },
   "outputs": [],
   "source": [
    "# Creating a 2D Plot\n",
    "sns.scatterplot(x='Sepal Length', y='Sepal Width', hue='labels', style='Species', data=dbscan_iris_df)\n",
    "plt.show()"
   ]
  },
  {
   "cell_type": "markdown",
   "id": "2cf99334",
   "metadata": {},
   "source": [
    "DBSCAN again finds 3 clusters, however they are even less segregated."
   ]
  },
  {
   "cell_type": "markdown",
   "id": "dff5936b",
   "metadata": {},
   "source": [
    "### Conclusions: DBSCAN\n",
    "\n",
    "DBSCAN almost successfully clusters Iris-Setosa as its own cluster, but then fails to find any meaningful cluster for the other two species, creating the third as a group of seemily outliers from all species."
   ]
  },
  {
   "cell_type": "markdown",
   "id": "6d6ea699",
   "metadata": {},
   "source": [
    "## OPTICS Clustering"
   ]
  },
  {
   "cell_type": "code",
   "execution_count": null,
   "id": "3885f8ac",
   "metadata": {
    "pycharm": {
     "is_executing": true
    }
   },
   "outputs": [],
   "source": [
    "# Copying the original and PCA data\n",
    "optics_iris_df = scaled_features.copy()\n",
    "optics_iris_df = pd.DataFrame(optics_iris_df, columns=['Sepal Length', 'Sepal Width', 'Petal Length', 'Petal Width'])\n",
    "optics_pca_df = pca_df.copy()\n",
    "\n",
    "# Performing Optics on the Original Data\n",
    "optics = OPTICS(min_samples=5, xi=.05, min_cluster_size=.05)\n",
    "optics.fit(optics_iris_df)\n",
    "labels = optics.labels_\n",
    "optics_iris_df['labels'] = labels\n",
    "optics_iris_df['Species'] = data['Species']\n",
    "\n",
    "# Performing Optics on the PCA Data\n",
    "optics = OPTICS(min_samples=5, xi=.05, min_cluster_size=.05)\n",
    "optics.fit(pca_df)\n",
    "labels = optics.labels_\n",
    "optics_pca_df['labels'] = labels\n",
    "optics_pca_df['Species'] = data['Species']"
   ]
  },
  {
   "cell_type": "markdown",
   "id": "6c28b1c1",
   "metadata": {},
   "source": [
    "Plotting the PCA Data"
   ]
  },
  {
   "cell_type": "code",
   "execution_count": null,
   "id": "91988ad7",
   "metadata": {
    "pycharm": {
     "is_executing": true
    }
   },
   "outputs": [],
   "source": [
    "# Creating a 3D Plot\n",
    "fig = px.scatter_3d(optics_pca_df, x='PC1', y='PC2', z='PC3', color='labels', symbol='Species', opacity=0.7)\n",
    "fig.update_layout(coloraxis_colorbar=dict(yanchor=\"top\", y=1, x=0, ticks=\"outside\"))\n",
    "fig.show()"
   ]
  },
  {
   "cell_type": "code",
   "execution_count": null,
   "id": "4e0c8c94",
   "metadata": {
    "pycharm": {
     "is_executing": true
    }
   },
   "outputs": [],
   "source": [
    "# Creating a 2D Plot\n",
    "sns.scatterplot(x='PC1', y='PC2', hue='labels', style='Species', data=optics_pca_df)\n",
    "plt.show()"
   ]
  },
  {
   "cell_type": "markdown",
   "id": "c499f3db",
   "metadata": {},
   "source": [
    "Optics has identified many smaller clusters while classing the rest as a singular cluster"
   ]
  },
  {
   "cell_type": "markdown",
   "id": "cbe2db59",
   "metadata": {},
   "source": [
    "Plotting Optics Clustering on the Original Data"
   ]
  },
  {
   "cell_type": "code",
   "execution_count": null,
   "id": "eeeb68d6",
   "metadata": {
    "pycharm": {
     "is_executing": true
    }
   },
   "outputs": [],
   "source": [
    "# Creating a 3D Plot\n",
    "fig = px.scatter_3d(optics_iris_df, x='Sepal Length', y='Sepal Width', z='Petal Length', color='labels', symbol='Species', opacity=0.7)\n",
    "fig.update_layout(coloraxis_colorbar=dict(yanchor=\"top\", y=1, x=0, ticks=\"outside\"))\n",
    "fig.show()"
   ]
  },
  {
   "cell_type": "code",
   "execution_count": null,
   "id": "0ebeb899",
   "metadata": {
    "pycharm": {
     "is_executing": true
    }
   },
   "outputs": [],
   "source": [
    "# Creating a 2D Plot\n",
    "sns.scatterplot(x='Sepal Length', y='Sepal Width', hue='labels', style='Species', data=optics_iris_df)\n",
    "plt.show()"
   ]
  },
  {
   "cell_type": "markdown",
   "id": "1aaa5e74",
   "metadata": {},
   "source": [
    "As with the PCA Data, Optics created many smaller clusters for each species, however this is much muddier than the pca data."
   ]
  },
  {
   "cell_type": "markdown",
   "id": "a6319a99",
   "metadata": {},
   "source": [
    "### Conclusion: OPTICS\n",
    "\n",
    "Optics doesn't perform very well with the IRIS Dataset, mainly because there isn't enough datapoints to cluster. Optics recommends no fewer than 500 datapoints, whereas the IRIS only has 140."
   ]
  },
  {
   "cell_type": "markdown",
   "id": "e72a869a",
   "metadata": {},
   "source": [
    "### Dendrogram for Hierarchical Clustering (using Ward Linkage)"
   ]
  },
  {
   "cell_type": "code",
   "execution_count": null,
   "id": "663d8a5f",
   "metadata": {},
   "outputs": [],
   "source": [
    "ward_linkage = linkage(features,'ward')\n",
    "plt.figure(figsize=(20,20))\n",
    "dn = dendrogram(ward_linkage)"
   ]
  },
  {
   "cell_type": "markdown",
   "id": "1653dea4",
   "metadata": {},
   "source": [
    "As you can see, with 150 data points, this dendrogram is hard to conceptualize. However, we can truncate it to a specific number of leaves at the bottom of the plot."
   ]
  },
  {
   "cell_type": "code",
   "execution_count": null,
   "id": "f49ec29a",
   "metadata": {},
   "outputs": [],
   "source": [
    "ward_linkage = linkage(features,'ward')\n",
    "plt.figure(figsize=(20,20))\n",
    "dn = dendrogram(ward_linkage,truncate_mode='lastp',p=12)"
   ]
  },
  {
   "cell_type": "markdown",
   "id": "42c6d50a",
   "metadata": {},
   "source": [
    "This looks to be a little more manageable. From our initial visualizations for Ward hierarchical clustering, we can infer that the green part of the dendrogram represents the setosa irises, since they were most easily clustered together away from the other 2 species. On the other end, versicolor and virginica are a little more closely entwined with each other.\n",
    "\n",
    "Now we'll do the same truncated dendrogram on the PCA data frame"
   ]
  },
  {
   "cell_type": "code",
   "execution_count": null,
   "id": "c189faa4",
   "metadata": {},
   "outputs": [],
   "source": [
    "ward_linkage_pca = linkage(pca_df,'ward')\n",
    "plt.figure(figsize=(20,20))\n",
    "dn = dendrogram(ward_linkage_pca,truncate_mode='lastp',p=12)"
   ]
  },
  {
   "cell_type": "markdown",
   "id": "c16478e3",
   "metadata": {},
   "source": [
    "Here we get a similar result to the dendrogram made from the original features, one branch/cluster on it's own and the other 2 are more entwined together."
   ]
  },
  {
   "cell_type": "markdown",
   "id": "ff21074e",
   "metadata": {},
   "source": [
    "### Bisecting K-Means"
   ]
  },
  {
   "cell_type": "markdown",
   "id": "87cbe7d5",
   "metadata": {},
   "source": [
    "First, find the optimal number of K's for clustering"
   ]
  },
  {
   "cell_type": "code",
   "execution_count": null,
   "id": "98dc4261",
   "metadata": {},
   "outputs": [],
   "source": [
    "n_clusters = [2, 3, 4, 5]\n",
    "\n",
    "# x and y values using original dataset\n",
    "k_x = data.loc[:, data.columns != 'Species'].values\n",
    "k_y = data.loc[:, data.columns == 'Species'].values\n",
    "\n",
    "# Algorithm: BisectingKMeans\n",
    "clustering_algorithms = {\n",
    "    \"Bisecting K-Means\": BisectingKMeans,\n",
    "}\n",
    "\n",
    "# Plot subplots for Bisecting KMeans\n",
    "fig, axs = plt.subplots(\n",
    "    len(clustering_algorithms), len(n_clusters), figsize=(25, 10)\n",
    ")\n",
    "\n",
    "# Transpose axis\n",
    "axs = axs.T\n",
    "\n",
    "# # Plotting scatters of Bisecting KMeans\n",
    "for i, n_clusters in enumerate(n_clusters):\n",
    "    algo = BisectingKMeans(n_clusters=n_clusters, random_state=42)\n",
    "    algo.fit(k_x)\n",
    "    centers = algo.cluster_centers_\n",
    "\n",
    "    axs[i].scatter(k_x[:, 0], k_x[:, 1], s=10, c=algo.labels_)\n",
    "    axs[i].scatter(centers[:, 0], centers[:, 1], c=\"r\", s=20)\n",
    "\n",
    "    axs[i].set_title(f\"Bisecting K-Means : {n_clusters} clusters\")\n"
   ]
  },
  {
   "cell_type": "markdown",
   "id": "345a961f",
   "metadata": {},
   "source": [
    "Bisecting K-Means works best with a large amount of data points and that isn't really the case here. However, we can see from this example that the clusters appear to be more organized and there is a noticeable trend to the cluster centers."
   ]
  },
  {
   "cell_type": "markdown",
   "id": "02b7f455",
   "metadata": {},
   "source": [
    "### Birch"
   ]
  },
  {
   "cell_type": "markdown",
   "id": "da75f52b",
   "metadata": {},
   "source": [
    "Threshold and Branching Factors\n",
    "\n",
    "Approaching this using 2 variations of partial fits:\n",
    "\n",
    "1.) global clustering and 2.) w/o global clustering"
   ]
  },
  {
   "cell_type": "code",
   "execution_count": 34,
   "id": "ba966260",
   "metadata": {},
   "outputs": [
    {
     "ename": "ValueError",
     "evalue": "ndarray is not C-contiguous",
     "output_type": "error",
     "traceback": [
      "\u001b[1;31m---------------------------------------------------------------------------\u001b[0m",
      "\u001b[1;31mValueError\u001b[0m                                Traceback (most recent call last)",
      "\u001b[1;32mc:\\Users\\tzhan\\Desktop\\COMP 4431\\Assignment 5\\4431_DataMining_Fall22\\Assignment5\\assignment5_new.ipynb Cell 136\u001b[0m in \u001b[0;36m<cell line: 14>\u001b[1;34m()\u001b[0m\n\u001b[0;32m     <a href='vscode-notebook-cell:/c%3A/Users/tzhan/Desktop/COMP%204431/Assignment%205/4431_DataMining_Fall22/Assignment5/assignment5_new.ipynb#Y544sZmlsZQ%3D%3D?line=11'>12</a>\u001b[0m titles \u001b[39m=\u001b[39m [\u001b[39m\"\u001b[39m\u001b[39mwith global clustering\u001b[39m\u001b[39m\"\u001b[39m, \u001b[39m\"\u001b[39m\u001b[39mwithout global clustering\u001b[39m\u001b[39m\"\u001b[39m]\n\u001b[0;32m     <a href='vscode-notebook-cell:/c%3A/Users/tzhan/Desktop/COMP%204431/Assignment%205/4431_DataMining_Fall22/Assignment5/assignment5_new.ipynb#Y544sZmlsZQ%3D%3D?line=13'>14</a>\u001b[0m \u001b[39mfor\u001b[39;00m ind, (birch_model, info) \u001b[39min\u001b[39;00m \u001b[39menumerate\u001b[39m(\u001b[39mzip\u001b[39m(birch_model, titles)):\n\u001b[1;32m---> <a href='vscode-notebook-cell:/c%3A/Users/tzhan/Desktop/COMP%204431/Assignment%205/4431_DataMining_Fall22/Assignment5/assignment5_new.ipynb#Y544sZmlsZQ%3D%3D?line=14'>15</a>\u001b[0m     birch_model\u001b[39m.\u001b[39;49mfit(k_x)\n\u001b[0;32m     <a href='vscode-notebook-cell:/c%3A/Users/tzhan/Desktop/COMP%204431/Assignment%205/4431_DataMining_Fall22/Assignment5/assignment5_new.ipynb#Y544sZmlsZQ%3D%3D?line=16'>17</a>\u001b[0m     labels \u001b[39m=\u001b[39m birch_model\u001b[39m.\u001b[39mlabels_\n\u001b[0;32m     <a href='vscode-notebook-cell:/c%3A/Users/tzhan/Desktop/COMP%204431/Assignment%205/4431_DataMining_Fall22/Assignment5/assignment5_new.ipynb#Y544sZmlsZQ%3D%3D?line=17'>18</a>\u001b[0m     centroids \u001b[39m=\u001b[39m birch_model\u001b[39m.\u001b[39msubcluster_centers_\n",
      "File \u001b[1;32mc:\\Users\\tzhan\\AppData\\Local\\Programs\\Python\\Python310\\lib\\site-packages\\sklearn\\cluster\\_birch.py:548\u001b[0m, in \u001b[0;36mBirch.fit\u001b[1;34m(self, X, y)\u001b[0m\n\u001b[0;32m    546\u001b[0m \u001b[39m# TODO: Remove deprecated flags in 1.2\u001b[39;00m\n\u001b[0;32m    547\u001b[0m \u001b[39mself\u001b[39m\u001b[39m.\u001b[39m_deprecated_fit, \u001b[39mself\u001b[39m\u001b[39m.\u001b[39m_deprecated_partial_fit \u001b[39m=\u001b[39m \u001b[39mTrue\u001b[39;00m, \u001b[39mFalse\u001b[39;00m\n\u001b[1;32m--> 548\u001b[0m \u001b[39mreturn\u001b[39;00m \u001b[39mself\u001b[39;49m\u001b[39m.\u001b[39;49m_fit(X, partial\u001b[39m=\u001b[39;49m\u001b[39mFalse\u001b[39;49;00m)\n",
      "File \u001b[1;32mc:\\Users\\tzhan\\AppData\\Local\\Programs\\Python\\Python310\\lib\\site-packages\\sklearn\\cluster\\_birch.py:611\u001b[0m, in \u001b[0;36mBirch._fit\u001b[1;34m(self, X, partial)\u001b[0m\n\u001b[0;32m    608\u001b[0m \u001b[39mself\u001b[39m\u001b[39m.\u001b[39msubcluster_centers_ \u001b[39m=\u001b[39m centroids\n\u001b[0;32m    609\u001b[0m \u001b[39mself\u001b[39m\u001b[39m.\u001b[39m_n_features_out \u001b[39m=\u001b[39m \u001b[39mself\u001b[39m\u001b[39m.\u001b[39msubcluster_centers_\u001b[39m.\u001b[39mshape[\u001b[39m0\u001b[39m]\n\u001b[1;32m--> 611\u001b[0m \u001b[39mself\u001b[39;49m\u001b[39m.\u001b[39;49m_global_clustering(X)\n\u001b[0;32m    612\u001b[0m \u001b[39mreturn\u001b[39;00m \u001b[39mself\u001b[39m\n",
      "File \u001b[1;32mc:\\Users\\tzhan\\AppData\\Local\\Programs\\Python\\Python310\\lib\\site-packages\\sklearn\\cluster\\_birch.py:760\u001b[0m, in \u001b[0;36mBirch._global_clustering\u001b[1;34m(self, X)\u001b[0m\n\u001b[0;32m    757\u001b[0m     \u001b[39mself\u001b[39m\u001b[39m.\u001b[39msubcluster_labels_ \u001b[39m=\u001b[39m clusterer\u001b[39m.\u001b[39mfit_predict(\u001b[39mself\u001b[39m\u001b[39m.\u001b[39msubcluster_centers_)\n\u001b[0;32m    759\u001b[0m \u001b[39mif\u001b[39;00m compute_labels:\n\u001b[1;32m--> 760\u001b[0m     \u001b[39mself\u001b[39m\u001b[39m.\u001b[39mlabels_ \u001b[39m=\u001b[39m \u001b[39mself\u001b[39;49m\u001b[39m.\u001b[39;49m_predict(X)\n",
      "File \u001b[1;32mc:\\Users\\tzhan\\AppData\\Local\\Programs\\Python\\Python310\\lib\\site-packages\\sklearn\\cluster\\_birch.py:694\u001b[0m, in \u001b[0;36mBirch._predict\u001b[1;34m(self, X)\u001b[0m\n\u001b[0;32m    691\u001b[0m kwargs \u001b[39m=\u001b[39m {\u001b[39m\"\u001b[39m\u001b[39mY_norm_squared\u001b[39m\u001b[39m\"\u001b[39m: \u001b[39mself\u001b[39m\u001b[39m.\u001b[39m_subcluster_norms}\n\u001b[0;32m    693\u001b[0m \u001b[39mwith\u001b[39;00m config_context(assume_finite\u001b[39m=\u001b[39m\u001b[39mTrue\u001b[39;00m):\n\u001b[1;32m--> 694\u001b[0m     argmin \u001b[39m=\u001b[39m pairwise_distances_argmin(\n\u001b[0;32m    695\u001b[0m         X, \u001b[39mself\u001b[39;49m\u001b[39m.\u001b[39;49msubcluster_centers_, metric_kwargs\u001b[39m=\u001b[39;49mkwargs\n\u001b[0;32m    696\u001b[0m     )\n\u001b[0;32m    697\u001b[0m \u001b[39mreturn\u001b[39;00m \u001b[39mself\u001b[39m\u001b[39m.\u001b[39msubcluster_labels_[argmin]\n",
      "File \u001b[1;32mc:\\Users\\tzhan\\AppData\\Local\\Programs\\Python\\Python310\\lib\\site-packages\\sklearn\\metrics\\pairwise.py:791\u001b[0m, in \u001b[0;36mpairwise_distances_argmin\u001b[1;34m(X, Y, axis, metric, metric_kwargs)\u001b[0m\n\u001b[0;32m    788\u001b[0m         metric \u001b[39m=\u001b[39m \u001b[39m\"\u001b[39m\u001b[39msqeuclidean\u001b[39m\u001b[39m\"\u001b[39m\n\u001b[0;32m    789\u001b[0m         metric_kwargs \u001b[39m=\u001b[39m {}\n\u001b[1;32m--> 791\u001b[0m     indices \u001b[39m=\u001b[39m PairwiseDistancesArgKmin\u001b[39m.\u001b[39;49mcompute(\n\u001b[0;32m    792\u001b[0m         X\u001b[39m=\u001b[39;49mX,\n\u001b[0;32m    793\u001b[0m         Y\u001b[39m=\u001b[39;49mY,\n\u001b[0;32m    794\u001b[0m         k\u001b[39m=\u001b[39;49m\u001b[39m1\u001b[39;49m,\n\u001b[0;32m    795\u001b[0m         metric\u001b[39m=\u001b[39;49mmetric,\n\u001b[0;32m    796\u001b[0m         metric_kwargs\u001b[39m=\u001b[39;49mmetric_kwargs,\n\u001b[0;32m    797\u001b[0m         strategy\u001b[39m=\u001b[39;49m\u001b[39m\"\u001b[39;49m\u001b[39mauto\u001b[39;49m\u001b[39m\"\u001b[39;49m,\n\u001b[0;32m    798\u001b[0m         return_distance\u001b[39m=\u001b[39;49m\u001b[39mFalse\u001b[39;49;00m,\n\u001b[0;32m    799\u001b[0m     )\n\u001b[0;32m    800\u001b[0m     indices \u001b[39m=\u001b[39m indices\u001b[39m.\u001b[39mflatten()\n\u001b[0;32m    801\u001b[0m \u001b[39melse\u001b[39;00m:\n\u001b[0;32m    802\u001b[0m     \u001b[39m# TODO: once PairwiseDistancesArgKmin supports sparse input matrices and 32 bit,\u001b[39;00m\n\u001b[0;32m    803\u001b[0m     \u001b[39m# we won't need to fallback to pairwise_distances_chunked anymore.\u001b[39;00m\n\u001b[0;32m    804\u001b[0m \n\u001b[0;32m    805\u001b[0m     \u001b[39m# Turn off check for finiteness because this is costly and because arrays\u001b[39;00m\n\u001b[0;32m    806\u001b[0m     \u001b[39m# have already been validated.\u001b[39;00m\n",
      "File \u001b[1;32msklearn\\metrics\\_pairwise_distances_reduction.pyx:672\u001b[0m, in \u001b[0;36msklearn.metrics._pairwise_distances_reduction.PairwiseDistancesArgKmin.compute\u001b[1;34m()\u001b[0m\n",
      "File \u001b[1;32msklearn\\metrics\\_pairwise_distances_reduction.pyx:1055\u001b[0m, in \u001b[0;36msklearn.metrics._pairwise_distances_reduction.FastEuclideanPairwiseDistancesArgKmin.__init__\u001b[1;34m()\u001b[0m\n",
      "File \u001b[1;32msklearn\\metrics\\_dist_metrics.pyx:1300\u001b[0m, in \u001b[0;36msklearn.metrics._dist_metrics.DatasetsPair.get_for\u001b[1;34m()\u001b[0m\n",
      "File \u001b[1;32msklearn\\metrics\\_dist_metrics.pyx:1348\u001b[0m, in \u001b[0;36msklearn.metrics._dist_metrics.DenseDenseDatasetsPair.__init__\u001b[1;34m()\u001b[0m\n",
      "File \u001b[1;32mstringsource:658\u001b[0m, in \u001b[0;36mView.MemoryView.memoryview_cwrapper\u001b[1;34m()\u001b[0m\n",
      "File \u001b[1;32mstringsource:349\u001b[0m, in \u001b[0;36mView.MemoryView.memoryview.__cinit__\u001b[1;34m()\u001b[0m\n",
      "\u001b[1;31mValueError\u001b[0m: ndarray is not C-contiguous"
     ]
    },
    {
     "data": {
      "text/plain": [
       "<Figure size 1800x720 with 0 Axes>"
      ]
     },
     "metadata": {},
     "output_type": "display_data"
    }
   ],
   "source": [
    "# x and y values using original dataset\n",
    "k_x = data.loc[:, data.columns != 'Species'].values\n",
    "k_y = data.loc[:, data.columns == 'Species'].values\n",
    "\n",
    "# Aaaaaaall the colors\n",
    "colors_ = cycle(colors.cnames.keys())\n",
    "\n",
    "fig = plt.figure(figsize = (25, 10))\n",
    "fig.subplots_adjust(left = .05, right = .9, bottom = .1, top = .9)\n",
    "\n",
    "birch_model = [Birch(threshold = 1.2, n_clusters = 2), Birch(threshold=1.2, n_clusters = 5)]\n",
    "titles = [\"with global clustering\", \"without global clustering\"]\n",
    "\n",
    "for ind, (birch_model, info) in enumerate(zip(birch_model, titles)):\n",
    "    birch_model.fit(k_x)\n",
    "\n",
    "    labels = birch_model.labels_\n",
    "    centroids = birch_model.subcluster_centers_\n",
    "    n_clusters = np.unique(labels).size\n",
    "    print(\"n_clusters : %d\" % n_clusters)\n",
    "\n",
    "    ax = fig.add_subplot(1, 3, ind + 1)\n",
    "    for this_centroid, k, col in zip(centroids, range(n_clusters), colors_):\n",
    "        mask = labels == k\n",
    "        ax.scatter(k_x[mask, 0], k_x[mask, 1], c=\"w\", edgecolor=col, marker=\".\", alpha=0.5)\n",
    "        if birch_model.n_clusters is None:\n",
    "            ax.scatter(this_centroid[0], this_centroid[1], marker=\"+\", c=\"k\", s=25)\n",
    "    ax.set_title(\"BIRCH %s\" % info)\n",
    "\n",
    "plt.show()"
   ]
  },
  {
   "cell_type": "markdown",
   "metadata": {},
   "source": []
  },
  {
   "cell_type": "code",
   "execution_count": null,
   "metadata": {},
   "outputs": [],
   "source": []
  }
 ],
 "metadata": {
  "kernelspec": {
   "display_name": "Python 3",
   "language": "python",
   "name": "python3"
  },
  "language_info": {
   "codemirror_mode": {
    "name": "ipython",
    "version": 3
   },
   "file_extension": ".py",
   "mimetype": "text/x-python",
   "name": "python",
   "nbconvert_exporter": "python",
   "pygments_lexer": "ipython3",
   "version": "3.7.6"
  },
  "vscode": {
   "interpreter": {
    "hash": "3beec1c7eb7ee4ff7b272a4628f011081769ec86229a42efad014d4c8f0a0ee9"
   }
  }
 },
 "nbformat": 4,
 "nbformat_minor": 5
}
